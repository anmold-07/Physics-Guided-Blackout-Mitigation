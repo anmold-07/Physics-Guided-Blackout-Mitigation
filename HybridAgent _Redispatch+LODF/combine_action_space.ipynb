{
 "cells": [
  {
   "cell_type": "markdown",
   "id": "3e58309d",
   "metadata": {},
   "source": [
    "## Loading action spaces and combining to get hybrid action space."
   ]
  },
  {
   "cell_type": "code",
   "execution_count": null,
   "id": "30e92713",
   "metadata": {},
   "outputs": [],
   "source": [
    "from IPython.display import display, HTML\n",
    "display(HTML(\"<style>.container { width:100% !important; }</style>\"))"
   ]
  },
  {
   "cell_type": "code",
   "execution_count": null,
   "id": "3b73930f",
   "metadata": {},
   "outputs": [],
   "source": [
    "import numba\n",
    "import grid2op\n",
    "from lightsim2grid import LightSimBackend            # highly recommended!\n",
    "\n",
    "env_name = \"l2rpn_neurips_2020_track1_small_train_random_32\"\n",
    "\n",
    "env = grid2op.make(env_name,\n",
    "                   #param=custom_params,\n",
    "                   backend=LightSimBackend(),\n",
    "                   opponent_init_budget=0, opponent_budget_per_ts=0\n",
    "                   )"
   ]
  },
  {
   "cell_type": "code",
   "execution_count": null,
   "id": "9d81fb19",
   "metadata": {},
   "outputs": [],
   "source": []
  },
  {
   "cell_type": "code",
   "execution_count": null,
   "id": "729855dc",
   "metadata": {},
   "outputs": [],
   "source": [
    "# print the meaning of each action in the \"track1_51_redis_actions_numpy\" or \"track1_19_redis_actions_numpy\" action space developed for the LODF agent.\n",
    "import numpy as np\n",
    "\n",
    "loaded_data = np.load('track1_51_redis_actions_numpy.npz')\n",
    "# loaded_data\n",
    "#for name in loaded_data.keys():\n",
    "#    print(name)\n",
    "  \n",
    "all_actions_1 = []\n",
    "actions_redis = loaded_data[\"my_array\"]\n",
    "print( actions_redis.shape )\n",
    "for action in actions_redis:\n",
    "    all_actions_1.append( env.action_space.from_vect(action) )\n",
    "    print( env.action_space.from_vect(action) )"
   ]
  },
  {
   "cell_type": "code",
   "execution_count": null,
   "id": "5ba3ccdb",
   "metadata": {},
   "outputs": [],
   "source": [
    "len(all_actions_1)"
   ]
  },
  {
   "cell_type": "code",
   "execution_count": null,
   "id": "ce119ec0",
   "metadata": {},
   "outputs": [],
   "source": [
    "all_actions_1.pop(0)\n",
    "len(all_actions_1)"
   ]
  },
  {
   "cell_type": "code",
   "execution_count": null,
   "id": "9fb8b461",
   "metadata": {},
   "outputs": [],
   "source": [
    "for action in all_actions_1:\n",
    "    print(action)\n",
    "    break\n",
    "    "
   ]
  },
  {
   "cell_type": "code",
   "execution_count": null,
   "id": "aa17ae1e",
   "metadata": {},
   "outputs": [],
   "source": [
    "# print the meaning of each action in the \"track1_119_actions_numpy\" action space developed for the LODF agent.\n",
    "import numpy as np\n",
    "all_actions_2 = []\n",
    "loaded_data = np.load('track1_119_actions_numpy.npz')\n",
    "actions_LODF = loaded_data['track1_119_actions_numpy']      # Access the array from the loaded data\n",
    "actions_LODF = actions_LODF[1:]  # removing the do nothing since already present earlier\n",
    "print( actions_LODF.shape )\n",
    "for action in actions_LODF:\n",
    "    all_actions_2.append(env.action_space.from_vect(action))\n",
    "    print(env.action_space.from_vect(action))"
   ]
  },
  {
   "cell_type": "code",
   "execution_count": null,
   "id": "d2858fa3",
   "metadata": {},
   "outputs": [],
   "source": [
    "len(all_actions_2)"
   ]
  },
  {
   "cell_type": "markdown",
   "id": "f7db2b0a",
   "metadata": {},
   "source": [
    "## Final action space"
   ]
  },
  {
   "cell_type": "code",
   "execution_count": null,
   "id": "9748a96b",
   "metadata": {},
   "outputs": [],
   "source": [
    "all_actions = []\n",
    "track1_169_actions_numpy = np.concatenate((actions_redis, actions_LODF), axis=0)\n",
    "for action in track1_169_actions_numpy:\n",
    "    all_actions.append(env.action_space.from_vect(action))\n",
    "    print( env.action_space.from_vect(action) )"
   ]
  },
  {
   "cell_type": "code",
   "execution_count": null,
   "id": "229a0c3c",
   "metadata": {},
   "outputs": [],
   "source": [
    "len(all_actions)"
   ]
  },
  {
   "cell_type": "code",
   "execution_count": null,
   "id": "fa1e5de6",
   "metadata": {},
   "outputs": [],
   "source": [
    "# Save the array into an npz file. Do this only once. If running the above code just for chekcing, then might not be necessary.\n",
    "np.savez('track1_169_actions_numpy.npz', track1_169_actions_numpy=track1_169_actions_numpy)"
   ]
  },
  {
   "cell_type": "code",
   "execution_count": null,
   "id": "d569ca90",
   "metadata": {},
   "outputs": [],
   "source": []
  },
  {
   "cell_type": "markdown",
   "id": "d805683d",
   "metadata": {},
   "source": [
    "## Check and re-confirm if the action space makes sense"
   ]
  },
  {
   "cell_type": "code",
   "execution_count": null,
   "id": "61193f3d",
   "metadata": {},
   "outputs": [],
   "source": [
    "# print the meaning of each action in the \"track1_119_actions_numpy\" action space developed for the LODF agent.\n",
    "import numpy as np\n",
    "count = 0\n",
    "all_actions = []\n",
    "loaded_data = np.load('track1_169_actions_numpy.npz')\n",
    "actions = loaded_data['track1_169_actions_numpy']      # Access the array from the loaded data\n",
    "for action in actions:\n",
    "    print(count)\n",
    "    all_actions.append(env.action_space.from_vect(action))\n",
    "    print(env.action_space.from_vect(action))\n",
    "    count += 1"
   ]
  },
  {
   "cell_type": "code",
   "execution_count": null,
   "id": "56f40b69",
   "metadata": {},
   "outputs": [],
   "source": [
    "len( all_actions )"
   ]
  }
 ],
 "metadata": {
  "kernelspec": {
   "display_name": "Python 3 (ipykernel)",
   "language": "python",
   "name": "python3"
  },
  "language_info": {
   "codemirror_mode": {
    "name": "ipython",
    "version": 3
   },
   "file_extension": ".py",
   "mimetype": "text/x-python",
   "name": "python",
   "nbconvert_exporter": "python",
   "pygments_lexer": "ipython3",
   "version": "3.10.10"
  }
 },
 "nbformat": 4,
 "nbformat_minor": 5
}
