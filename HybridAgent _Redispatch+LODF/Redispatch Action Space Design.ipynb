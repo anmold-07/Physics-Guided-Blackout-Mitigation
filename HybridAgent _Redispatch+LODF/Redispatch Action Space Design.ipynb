{
 "cells": [
  {
   "cell_type": "code",
   "execution_count": null,
   "id": "0637d8b5",
   "metadata": {},
   "outputs": [],
   "source": [
    "from IPython.display import display, HTML\n",
    "display(HTML(\"<style>.container { width:100% !important; }</style>\"))"
   ]
  },
  {
   "cell_type": "code",
   "execution_count": null,
   "id": "c6ab0a5e",
   "metadata": {},
   "outputs": [],
   "source": [
    "import os\n",
    "import sys\n",
    "import grid2op\n",
    "from grid2op.Agent import DoNothingAgent, BaseAgent\n",
    "from tqdm.notebook import tqdm  # for easy progress bar\n",
    "display_tqdm = False  # this is set to False for ease with the unit test, feel free to set it to True\n",
    "import numpy as np\n",
    "import pdb\n",
    "import matplotlib.pyplot as plt"
   ]
  },
  {
   "cell_type": "code",
   "execution_count": null,
   "id": "07dff092",
   "metadata": {},
   "outputs": [],
   "source": [
    "try:\n",
    "    from lightsim2grid import LightSimBackend\n",
    "    bk_cls = LightSimBackend\n",
    "except ImportError as exc:\n",
    "    print(f\"Error: {exc} when importing faster LightSimBackend\")\n",
    "    from grid2op.Backend import PandaPowerBackend\n",
    "    bk_cls = PandaPowerBackend\n",
    "\n",
    "env_name = \"l2rpn_neurips_2020_track1_small\"\n",
    "env = grid2op.make(env_name, backend=bk_cls())\n",
    "\n",
    "print(\"Is this environment suitable for redispatching: {}\".format(env.redispatching_unit_commitment_availble))"
   ]
  },
  {
   "cell_type": "code",
   "execution_count": null,
   "id": "20f44a46",
   "metadata": {},
   "outputs": [],
   "source": [
    "# what are the dispatchable generators for this environment\n",
    "print( env.gen_redispatchable,  np.sum(env.gen_redispatchable), env.gen_redispatchable.shape[0], env.gen_cost_per_MW )"
   ]
  },
  {
   "cell_type": "code",
   "execution_count": null,
   "id": "abae2455",
   "metadata": {},
   "outputs": [],
   "source": [
    "print( env.get_thermal_limit() ) "
   ]
  },
  {
   "cell_type": "code",
   "execution_count": null,
   "id": "449118b3",
   "metadata": {},
   "outputs": [],
   "source": [
    "# gen-index, ramp-rate, marginal-cost!\n",
    "\n",
    "boolean_array = env.gen_redispatchable \n",
    "generator_redispatch_indices = np.where(boolean_array)[0]\n",
    "#print(generator_redispatch_indices)\n",
    "\n",
    "ramp_rates = env.gen_max_ramp_up[generator_redispatch_indices]\n",
    "#print(ramp_rates)\n",
    "\n",
    "marginal_cost = env.gen_cost_per_MW[generator_redispatch_indices]\n",
    "#print(marginal_cost)\n",
    "\n",
    "zipped_array = np.column_stack( (generator_redispatch_indices, ramp_rates, marginal_cost) )\n",
    "print(zipped_array)"
   ]
  },
  {
   "cell_type": "code",
   "execution_count": null,
   "id": "f6e7c671",
   "metadata": {},
   "outputs": [],
   "source": [
    "# filter based on delta values\n",
    "delta = 2\n",
    "filtered_rows = zipped_array[ zipped_array[:, 1] > delta ]\n",
    "print(filtered_rows)\n",
    "\n",
    "k = filtered_rows.shape[0] # numbkerOfGeninAction\n",
    "print(k)"
   ]
  },
  {
   "cell_type": "code",
   "execution_count": null,
   "id": "f13807fb",
   "metadata": {},
   "outputs": [],
   "source": [
    "# filter based on manually selected generator indices\n",
    "\n",
    "# Indices to filter\n",
    "indices_to_filter = [3, 13, 16, 20, 21]\n",
    "\n",
    "# Filter rows based on indices\n",
    "filtered_rows = zipped_array[ np.isin(zipped_array[:, 0], indices_to_filter) ]\n",
    "\n",
    "print(\"Filtered Rows:\")\n",
    "print(filtered_rows)\n",
    "\n",
    "k = filtered_rows.shape[0] # numbkerOfGeninAction\n",
    "print(k)"
   ]
  },
  {
   "cell_type": "code",
   "execution_count": null,
   "id": "4be13329",
   "metadata": {},
   "outputs": [],
   "source": [
    "genIndex_float = filtered_rows[:, 0]\n",
    "genIndex_int = genIndex_float.astype(int)\n",
    "print( genIndex_int )"
   ]
  },
  {
   "cell_type": "markdown",
   "id": "372f7b8e",
   "metadata": {},
   "source": [
    "# Each variable takes one of [0, delta, -delta]"
   ]
  },
  {
   "cell_type": "code",
   "execution_count": null,
   "id": "01401ca8",
   "metadata": {},
   "outputs": [],
   "source": [
    "def find_combinations(target_sum, num_numbers, delta, current_combination, all_combinations):\n",
    "    if num_numbers == 0:\n",
    "        if target_sum == 0:\n",
    "            all_combinations.append(list(current_combination))\n",
    "        return\n",
    "    \n",
    "    for value in [-delta, delta, 0]:\n",
    "        current_combination.append(value)\n",
    "        find_combinations(target_sum - value, num_numbers - 1, delta, current_combination, all_combinations)\n",
    "        current_combination.pop()\n",
    "\n",
    "def generate_combinations(target_sum, k, delta):\n",
    "    combinations = []\n",
    "    find_combinations(target_sum, k, delta, [], combinations)\n",
    "    return combinations\n",
    "\n",
    "k = 4      # Number of discrete generator numbers participating\n",
    "delta = 4  # discretitized values for generator ramps {+delta, -delta, and 0}\n",
    "\n",
    "combinations = generate_combinations(0, k, delta)\n",
    "print(\"Number of combinations:\", len(combinations))\n",
    "print(\"Combinations:\", combinations)"
   ]
  },
  {
   "cell_type": "code",
   "execution_count": null,
   "id": "2558a1c8",
   "metadata": {},
   "outputs": [],
   "source": [
    "# making a list of tuples where the first element of the tuple is the generartor index and the second is the amount of dispatch.\n",
    "action_space_list = []\n",
    "for dispatch in combinations:\n",
    "    #print(dispatch)\n",
    "    zipped_array = np.column_stack( (genIndex_int, dispatch) )\n",
    "    #print( zipped_array )\n",
    "    list_of_tuples = [tuple(row) for row in zipped_array]\n",
    "    action_space_list.append(list_of_tuples)"
   ]
  },
  {
   "cell_type": "code",
   "execution_count": null,
   "id": "0dcd03d6",
   "metadata": {},
   "outputs": [],
   "source": [
    "# construction of the action space as a list of tuples\n",
    "print(len(action_space_list), action_space_list)\n",
    "#action_space_list.reverse()\n",
    "print(\" \")\n",
    "print(\"After Removal\")\n",
    "action_space_list.pop()                                 # if you want to remove the all-zero re-dispatch action (might have to add a do-nothing action explicitly)\n",
    "print(len(action_space_list), action_space_list)"
   ]
  },
  {
   "cell_type": "code",
   "execution_count": null,
   "id": "2571238c",
   "metadata": {},
   "outputs": [],
   "source": []
  },
  {
   "cell_type": "code",
   "execution_count": null,
   "id": "211e6664",
   "metadata": {},
   "outputs": [],
   "source": [
    "# just to see how the list of tuples looks like\n",
    "print( action_space_list[:2] )\n",
    "print( \"First Action \", action_space_list[0] )"
   ]
  },
  {
   "cell_type": "code",
   "execution_count": null,
   "id": "70821ae0",
   "metadata": {},
   "outputs": [],
   "source": []
  },
  {
   "cell_type": "code",
   "execution_count": null,
   "id": "36ba3ae9",
   "metadata": {},
   "outputs": [],
   "source": [
    "# developing an environment in order to see the impact of each of the above designed re-dispatch actions.\n",
    "\n",
    "import os, sys, grid2op\n",
    "from grid2op.Agent import DoNothingAgent, BaseAgent\n",
    "from tqdm.notebook import tqdm  # for easy progress bar\n",
    "display_tqdm = False  # this is set to False for ease with the unitt test, feel free to set it to True\n",
    "import pdb\n",
    "import numpy as np\n",
    "import matplotlib.pyplot as plt\n",
    "\n",
    "try:\n",
    "    from lightsim2grid import LightSimBackend\n",
    "    bk_cls = LightSimBackend\n",
    "except ImportError as exc:\n",
    "    print(f\"Error: {exc} when importing faster LightSimBackend\")\n",
    "    from grid2op.Backend import PandaPowerBackend\n",
    "    bk_cls = PandaPowerBackend\n",
    "\n",
    "env_name = \"l2rpn_neurips_2020_track1_small\"\n",
    "env = grid2op.make(env_name, backend=bk_cls())\n",
    "\n",
    "print(\"Is this environment suitable for redispatching: {}\".format(env.redispatching_unit_commitment_availble))"
   ]
  },
  {
   "cell_type": "code",
   "execution_count": null,
   "id": "989cdc08",
   "metadata": {},
   "outputs": [],
   "source": [
    "# testing out the \"action_space_list\" on a given observation \"obs\"\n",
    "\n",
    "actions = []\n",
    "\n",
    "relevant_indices = [3, 13, 16, 20, 21]\n",
    "\n",
    "for index in range( len(action_space_list) ):    \n",
    "    # perform a valid redispatching action\n",
    "    env.set_id(0)  # make sure to use the same environment input data.\n",
    "    obs_init = env.reset()  # reset the environment\n",
    "    act = env.action_space()\n",
    "    act = env.action_space( { \"redispatch\": action_space_list[index] } )\n",
    "    \n",
    "    print( act )\n",
    "    #print( env.action_space( { \"redispatch\": action_space_list[index] } ).to_vect() )\n",
    "    actions.append( env.action_space( { \"redispatch\": action_space_list[index] } ).to_vect() )\n",
    "    \n",
    "    obs, reward, done, info = env.step(act)\n",
    "    print( \"actual dispatch at time step 0: {}\".format(obs.actual_dispatch) )\n",
    "    print( obs.actual_dispatch[relevant_indices] )\n",
    "    print( action_space_list[index] )\n",
    "    print(\"\")"
   ]
  },
  {
   "cell_type": "code",
   "execution_count": null,
   "id": "56738719",
   "metadata": {},
   "outputs": [],
   "source": [
    "actions.append( env.action_space( {} ).to_vect() ) # adding the do nothing action in an adhoc fashion (since re-dispatching all zero is not do-nothing in principle)"
   ]
  },
  {
   "cell_type": "code",
   "execution_count": null,
   "id": "12e92811",
   "metadata": {},
   "outputs": [],
   "source": [
    "actions.reverse()"
   ]
  },
  {
   "cell_type": "code",
   "execution_count": null,
   "id": "ecfab641",
   "metadata": {},
   "outputs": [],
   "source": [
    "actions"
   ]
  },
  {
   "cell_type": "code",
   "execution_count": null,
   "id": "4d74d88b",
   "metadata": {},
   "outputs": [],
   "source": [
    "# ideally, run it only once to store each action in the vector format in the \"track1_51_redis_actions_numpy\" array.\n",
    "my_array = np.array(actions)\n",
    "np.savez(\"track1_51_redis_actions_numpy.npz\", my_array=my_array)"
   ]
  },
  {
   "cell_type": "code",
   "execution_count": null,
   "id": "137b7a8d",
   "metadata": {},
   "outputs": [],
   "source": []
  },
  {
   "cell_type": "code",
   "execution_count": null,
   "id": "a1d0d807",
   "metadata": {},
   "outputs": [],
   "source": [
    "# Load the array from the .npz file\n",
    "loaded_data = np.load(\"track1_51_redis_actions_numpy.npz\")\n",
    "#loaded_data = np.load(\"track1_51_redis_actions_numpy.npz\", allow_pickle=True)\n",
    "\n",
    "# Access the array using the name you assigned\n",
    "all_actions_stored_numpy = loaded_data[\"my_array\"]\n",
    "\n",
    "#print(all_actions_stored_numpy)\n",
    "for action in all_actions_stored_numpy:\n",
    "    print(action)"
   ]
  },
  {
   "cell_type": "code",
   "execution_count": null,
   "id": "77f36e4b",
   "metadata": {},
   "outputs": [],
   "source": []
  },
  {
   "cell_type": "code",
   "execution_count": null,
   "id": "81b86d94",
   "metadata": {},
   "outputs": [],
   "source": [
    "env.set_id(0)  # make sure to use the same environment input data.\n",
    "obs_init = env.reset()  # reset the environment\n",
    "env.fast_forward_chronics(5000)\n",
    "obs, reward, done, info = env.step(act)\n",
    "relevant_indices = [3, 13, 16, 20, 21]\n",
    "\n",
    "for index in range( len(action_space_list) ):    \n",
    "    # perform a valid redispatching action\n",
    "    env.set_id(0)  # make sure to use the same environment input data.\n",
    "    obs_init = env.reset()  # reset the environment\n",
    "    act = env.action_space( { \"redispatch\": action_space_list[index] } )\n",
    "    \n",
    "    print( act ) # ultimately this is stored in the .npz file when loading the action space in DDQN\n",
    "    \n",
    "    obs, reward, done, info = env.step(act)\n",
    "    print( \"actual dispatch at time step 0: {}\".format(obs.actual_dispatch) )\n",
    "    print( obs.actual_dispatch[relevant_indices] )\n",
    "    print( action_space_list[index] )\n",
    "    print(\"\")"
   ]
  },
  {
   "cell_type": "code",
   "execution_count": null,
   "id": "5b94d5c2",
   "metadata": {},
   "outputs": [],
   "source": []
  },
  {
   "cell_type": "code",
   "execution_count": null,
   "id": "e0c09f8a",
   "metadata": {},
   "outputs": [],
   "source": []
  },
  {
   "cell_type": "code",
   "execution_count": null,
   "id": "b1685c6e",
   "metadata": {},
   "outputs": [],
   "source": []
  },
  {
   "cell_type": "markdown",
   "id": "45024ccf",
   "metadata": {},
   "source": [
    "# What if each variable takes one of [0, delta, delta/2, -delta, -delta/2]?"
   ]
  },
  {
   "cell_type": "code",
   "execution_count": null,
   "id": "d676c33a",
   "metadata": {},
   "outputs": [],
   "source": [
    "def find_combinations(target_sum, num_numbers, delta, current_combination, all_combinations):\n",
    "    if num_numbers == 0:\n",
    "        if target_sum == 0:\n",
    "            all_combinations.append(list(current_combination))\n",
    "        return\n",
    "    \n",
    "    for value in [0, delta, delta/2, -delta, -delta/2]:\n",
    "        current_combination.append(value)\n",
    "        find_combinations(target_sum - value, num_numbers - 1, delta, current_combination, all_combinations)\n",
    "        current_combination.pop()\n",
    "\n",
    "def generate_combinations(target_sum, k, delta):\n",
    "    combinations = []\n",
    "    find_combinations(target_sum, k, delta, [], combinations)\n",
    "    return combinations\n",
    "\n",
    "k = 5  # Number of discrete numbers\n",
    "delta = 2  # Difference between values\n",
    "\n",
    "combinations = generate_combinations(0, k, delta)\n",
    "print(\"Number of combinations:\", len(combinations))\n",
    "print(\"Combinations:\", combinations)"
   ]
  }
 ],
 "metadata": {
  "kernelspec": {
   "display_name": "Python 3 (ipykernel)",
   "language": "python",
   "name": "python3"
  },
  "language_info": {
   "codemirror_mode": {
    "name": "ipython",
    "version": 3
   },
   "file_extension": ".py",
   "mimetype": "text/x-python",
   "name": "python",
   "nbconvert_exporter": "python",
   "pygments_lexer": "ipython3",
   "version": "3.10.10"
  }
 },
 "nbformat": 4,
 "nbformat_minor": 5
}
