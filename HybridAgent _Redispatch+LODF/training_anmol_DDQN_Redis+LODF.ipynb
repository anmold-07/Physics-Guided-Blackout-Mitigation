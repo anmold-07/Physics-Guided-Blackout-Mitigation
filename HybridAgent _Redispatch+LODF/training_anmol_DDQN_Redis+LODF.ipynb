{
 "cells": [
  {
   "cell_type": "code",
   "execution_count": null,
   "id": "7df34f84",
   "metadata": {},
   "outputs": [],
   "source": [
    "from IPython.display import display, HTML\n",
    "display(HTML(\"<style>.container { width:100% !important; }</style>\"))"
   ]
  },
  {
   "cell_type": "code",
   "execution_count": null,
   "id": "e306b27a",
   "metadata": {},
   "outputs": [],
   "source": [
    "import numba\n",
    "import grid2op\n",
    "import numpy as np\n",
    "from lightsim2grid import LightSimBackend           # highly recommended!\n",
    "from MyRewards import RLReward"
   ]
  },
  {
   "cell_type": "code",
   "execution_count": null,
   "id": "23bad22a",
   "metadata": {},
   "outputs": [],
   "source": [
    "lambdaa = 0.03\n",
    "line_switch_cost = 0.5\n",
    "\n",
    "selected_reward_function = RLReward(lambdaa, line_switch_cost)\n",
    "#selected_action_cost = ActionCost(lambdaa, line_switch_cost)\n",
    "#other_rewards = { \"margin_reward\": MarginReward, \"action_cost\": selected_action_cost }\n",
    "\n",
    "env_name = \"l2rpn_neurips_2020_track1_small_train_random_32\"\n",
    "\n",
    "env = grid2op.make(env_name,\n",
    "                   reward_class=selected_reward_function,\n",
    "                   #param=custom_params,\n",
    "                   backend=LightSimBackend(),\n",
    "                   opponent_init_budget=0, opponent_budget_per_ts=0 # removing the influence of attacks\n",
    "                   )"
   ]
  },
  {
   "cell_type": "code",
   "execution_count": null,
   "id": "38923c12",
   "metadata": {},
   "outputs": [],
   "source": [
    "def powerFlowLimitsFunction(env):\n",
    "    \"\"\"\n",
    "    Power Flow Limits array (necessary, needed only once at the start) \n",
    "    Size: number of branches in the \"initial/starting\" grid.\n",
    "    power-flow limits on each line in the \"INITIAL\" power-grid. Go to array to extract the power-line limit.\n",
    "    after my thorough research, power flow limits on each grid2op branch (transmission line and transformer) can be found as:\n",
    "    \"\"\"\n",
    "    baseVoltagesForEachLine = np.array([138]*45 + [345]*3 + [138]*7 + [345]*4)         # manually building it since the base voltages can be recognized from the previous section.\n",
    "    powerFlowLimits = np.abs(env.get_thermal_limit())*baseVoltagesForEachLine*1000*np.sqrt(3)\n",
    "    powerFlowLimits = powerFlowLimits/1e6                          # power flow limits in MWs\n",
    "    return powerFlowLimits\n",
    "\n",
    "powerFlowLimits = powerFlowLimitsFunction(env) # will not change with time steps\n",
    "init_obs = env.reset()\n",
    "\n",
    "from DoubleDuelingDQN_Redis_LODF import DoubleDuelingDQN as BackupAgent\n",
    "\n",
    "agent = BackupAgent(env.observation_space, env.action_space, env._init_grid_path, init_obs, powerFlowLimits, name = \"DDDQN_random_train\", is_training = True)"
   ]
  },
  {
   "cell_type": "code",
   "execution_count": null,
   "id": "eb649864",
   "metadata": {},
   "outputs": [],
   "source": [
    "\"\"\" \n",
    "# in case you want to use a pre-trained agent\n",
    "import os\n",
    "submission_dir = \"C:\\\\Users\\\\dwivea2\\\\Desktop\\\\RL code\\\\CustomAgent _Redispatch+LODF\"\n",
    "agent.load(os.path.join(submission_dir, \"75000_36bus_posttrain-model_anmol_redis_LODF-try5\", \"DDDQN_random_train.h5\"))\n",
    "\"\"\""
   ]
  },
  {
   "cell_type": "code",
   "execution_count": null,
   "id": "b7bab6be",
   "metadata": {},
   "outputs": [],
   "source": [
    "agent.train(env,\n",
    "            10e4,  # num of steps to train\n",
    "            save_path = \"36bus_posttrain-model_anmol_redis_LODF-try12\" + \"_\" + str(line_switch_cost) + \"_\" + str(lambdaa),\n",
    "            activateAgentRho = 0.95,\n",
    "            logdir = \"logs-random-train-anmol-redis_LODF-try12\" + \"_\" + str(line_switch_cost) + \"_\" + str(lambdaa)\n",
    "           )"
   ]
  }
 ],
 "metadata": {
  "kernelspec": {
   "display_name": "Python 3 (ipykernel)",
   "language": "python",
   "name": "python3"
  },
  "language_info": {
   "codemirror_mode": {
    "name": "ipython",
    "version": 3
   },
   "file_extension": ".py",
   "mimetype": "text/x-python",
   "name": "python",
   "nbconvert_exporter": "python",
   "pygments_lexer": "ipython3",
   "version": "3.10.10"
  }
 },
 "nbformat": 4,
 "nbformat_minor": 5
}
