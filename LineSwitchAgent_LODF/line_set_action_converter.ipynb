{
 "cells": [
  {
   "cell_type": "code",
   "execution_count": null,
   "id": "3b73930f",
   "metadata": {},
   "outputs": [],
   "source": [
    "import numba\n",
    "import grid2op\n",
    "from MyCombinedScaledReward import *\n",
    "from lightsim2grid import LightSimBackend            # highly recommended!\n",
    "\n",
    "reward = MyCombinedScaledReward # you can also create your own reward class\n",
    "env_name = \"l2rpn_neurips_2020_track1_small_train_random_28\"\n",
    "\n",
    "env = grid2op.make(env_name,\n",
    "                   reward_class=reward,\n",
    "                   #param=custom_params,\n",
    "                   backend=LightSimBackend(),\n",
    "                   opponent_init_budget=0, opponent_budget_per_ts=0\n",
    "                   )"
   ]
  },
  {
   "cell_type": "code",
   "execution_count": null,
   "id": "ba54796c",
   "metadata": {},
   "outputs": [],
   "source": [
    "# print the meaning of each action in the \"track1_885_actions\" action space taken from the DDQN work.\n",
    "import numpy as np\n",
    "all_actions = []\n",
    "actions = np.load('track1_885_actions.npz', allow_pickle=True)['all_actions']\n",
    "for action in actions:\n",
    "    all_actions.append(env.action_space.from_vect(action))\n",
    "    print(env.action_space.from_vect(action))\n",
    "all_actions"
   ]
  },
  {
   "cell_type": "markdown",
   "id": "dc6b9cae",
   "metadata": {},
   "source": [
    "## Checking the difference bewteen change_status and set_status"
   ]
  },
  {
   "cell_type": "code",
   "execution_count": null,
   "id": "9f8ff485",
   "metadata": {},
   "outputs": [],
   "source": [
    "change_status = env.action_space.get_change_line_status_vect()\n",
    "change_status"
   ]
  },
  {
   "cell_type": "code",
   "execution_count": null,
   "id": "6ebf53c9",
   "metadata": {},
   "outputs": [],
   "source": [
    "set_status = env.action_space.get_set_line_status_vect()\n",
    "set_status"
   ]
  },
  {
   "cell_type": "markdown",
   "id": "ee59ed40",
   "metadata": {},
   "source": [
    "## Code for checking the action space for the LODF agent (loading a saved model)"
   ]
  },
  {
   "cell_type": "code",
   "execution_count": null,
   "id": "67192c1b",
   "metadata": {},
   "outputs": [],
   "source": [
    "# print the meaning of each action in the \"track1_119_actions_numpy\" action space developed for the LODF agent.\n",
    "import numpy as np\n",
    "all_actions = []\n",
    "loaded_data = np.load('track1_119_actions_numpy.npz')\n",
    "actions = loaded_data['track1_119_actions_numpy']      # Access the array from the loaded data\n",
    "for action in actions:\n",
    "    all_actions.append(env.action_space.from_vect(action))\n",
    "    print(env.action_space.from_vect(action))\n",
    "all_actions"
   ]
  },
  {
   "cell_type": "code",
   "execution_count": null,
   "id": "634d037e",
   "metadata": {},
   "outputs": [],
   "source": []
  },
  {
   "cell_type": "markdown",
   "id": "781e021f",
   "metadata": {},
   "source": [
    "## Code for developing the action space for the LODF agent"
   ]
  },
  {
   "cell_type": "code",
   "execution_count": null,
   "id": "26ef7571",
   "metadata": {},
   "outputs": [],
   "source": [
    "from grid2op.Action import SerializableActionSpace\n",
    "track1_119_actions = []"
   ]
  },
  {
   "cell_type": "code",
   "execution_count": null,
   "id": "67eac913",
   "metadata": {},
   "outputs": [],
   "source": [
    "all_actions = SerializableActionSpace.get_all_unitary_line_set_simple(env.action_space)\n",
    "all_actions.insert( 0, env.action_space( {} ) )  # adding the do-nothing action in the first index of the array."
   ]
  },
  {
   "cell_type": "code",
   "execution_count": null,
   "id": "2618a862",
   "metadata": {},
   "outputs": [],
   "source": [
    "for action in all_actions:\n",
    "    #print(action)\n",
    "    #print(action.to_vect())\n",
    "    track1_119_actions.append( action.to_vect() )"
   ]
  },
  {
   "cell_type": "code",
   "execution_count": null,
   "id": "c2a44253",
   "metadata": {},
   "outputs": [],
   "source": [
    "count = 0\n",
    "for action in all_actions:\n",
    "    print(count)\n",
    "    print(action)\n",
    "    count += 1"
   ]
  },
  {
   "cell_type": "code",
   "execution_count": null,
   "id": "82d655c9",
   "metadata": {},
   "outputs": [],
   "source": [
    "import numpy as np\n",
    "\n",
    "track1_119_actions_numpy = np.array( track1_119_actions )\n",
    "print(\"shape: \", track1_119_actions_numpy.shape)\n",
    "print(\"numpy array: \", track1_119_actions_numpy)"
   ]
  },
  {
   "cell_type": "code",
   "execution_count": null,
   "id": "5b697311",
   "metadata": {},
   "outputs": [],
   "source": []
  },
  {
   "cell_type": "code",
   "execution_count": null,
   "id": "79767fe9",
   "metadata": {},
   "outputs": [],
   "source": [
    "# Save the array into an npz file. Do this only once. If running the above code just for chekcing, then might not be necessary.\n",
    "np.savez('track1_119_actions_numpy.npz', track1_119_actions_numpy=track1_119_actions_numpy)"
   ]
  }
 ],
 "metadata": {
  "kernelspec": {
   "display_name": "Python 3 (ipykernel)",
   "language": "python",
   "name": "python3"
  },
  "language_info": {
   "codemirror_mode": {
    "name": "ipython",
    "version": 3
   },
   "file_extension": ".py",
   "mimetype": "text/x-python",
   "name": "python",
   "nbconvert_exporter": "python",
   "pygments_lexer": "ipython3",
   "version": "3.10.10"
  }
 },
 "nbformat": 4,
 "nbformat_minor": 5
}
