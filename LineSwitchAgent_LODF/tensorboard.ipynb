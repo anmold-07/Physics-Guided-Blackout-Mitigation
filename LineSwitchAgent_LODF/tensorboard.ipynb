{
 "cells": [
  {
   "cell_type": "code",
   "execution_count": null,
   "id": "7d9f32da",
   "metadata": {},
   "outputs": [],
   "source": [
    "from IPython.display import display, HTML\n",
    "display( HTML(\"<style>.container { width:100% !important; }</style>\") )\n",
    "from tensorboard import notebook"
   ]
  },
  {
   "cell_type": "code",
   "execution_count": null,
   "id": "5f0cb8bb",
   "metadata": {},
   "outputs": [],
   "source": [
    "! powershell \"echo 'checking for existing tensorboard processes'\"\n",
    "! powershell \"ps | Where-Object {$_.ProcessName -eq 'tensorboard'}\"\n",
    "\n",
    "! powershell \"ps | Where-Object {$_.ProcessName -eq 'tensorboard'}| %{kill $_}\"\n",
    "\n",
    "! powershell \"echo 'cleaning tensorboard temp dir'\"\n",
    "! powershell \"rm $env:TEMP\\.tensorboard-info\\*\"\n",
    "\n",
    "! powershell \"ps | Where-Object {$_.ProcessName -eq 'tensorboard'}\""
   ]
  },
  {
   "cell_type": "code",
   "execution_count": null,
   "id": "77a5bf0e",
   "metadata": {
    "scrolled": false
   },
   "outputs": [],
   "source": [
    "name = \"logs-random-train-anmol-LODF-try12_0.0_0.0\"\n",
    "log_dir = str(name)  # Path to the directory containing the logs\n",
    "notebook.start(f\"--logdir {log_dir} --port {6210}\")"
   ]
  },
  {
   "cell_type": "code",
   "execution_count": null,
   "id": "caa5b769",
   "metadata": {},
   "outputs": [],
   "source": [
    "name = \"logs-random-train-anmol-random-try12_0.0_0.0\"\n",
    "log_dir = str(name)  # Path to the directory containing the logs\n",
    "notebook.start(f\"--logdir {log_dir} --port {6310}\")"
   ]
  },
  {
   "cell_type": "code",
   "execution_count": null,
   "id": "fdd7d19d",
   "metadata": {},
   "outputs": [],
   "source": [
    "name = \"logs-random-train-anmol-LODF-try1\"\n",
    "log_dir = str(name)  # Path to the directory containing the logs\n",
    "notebook.start(f\"--logdir {log_dir} --port {6410}\")"
   ]
  },
  {
   "cell_type": "code",
   "execution_count": null,
   "id": "b09ebf56",
   "metadata": {},
   "outputs": [],
   "source": []
  }
 ],
 "metadata": {
  "kernelspec": {
   "display_name": "Python 3 (ipykernel)",
   "language": "python",
   "name": "python3"
  },
  "language_info": {
   "codemirror_mode": {
    "name": "ipython",
    "version": 3
   },
   "file_extension": ".py",
   "mimetype": "text/x-python",
   "name": "python",
   "nbconvert_exporter": "python",
   "pygments_lexer": "ipython3",
   "version": "3.10.10"
  }
 },
 "nbformat": 4,
 "nbformat_minor": 5
}
